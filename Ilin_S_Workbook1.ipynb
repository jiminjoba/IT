{
 "cells": [
  {
   "cell_type": "code",
   "execution_count": null,
   "id": "ee69e3ce",
   "metadata": {},
   "outputs": [],
   "source": [
    "# TASK 1.3\n",
    "\n",
    "x = 5 >= 2\n",
    "A = {1, 3, 7, 8}\n",
    "B = {2, 4, 5, 10, 'apple'}\n",
    "C = A & B\n",
    "df = 'Антонова Антонина', 34, 'ж'\n",
    "z = 'type'\n",
    "D = [1, 'title', 2, 'content']\n",
    "print (x,'|', type(x))\n",
    "print (A,'|', type(A))\n",
    "print (B,'|', type(B))\n",
    "print (C,'|', type(C))\n",
    "print (df,'|', type(df))\n",
    "print (z,'|', type(z))\n",
    "print (D,'|', type(D))"
   ]
  },
  {
   "cell_type": "code",
   "execution_count": null,
   "id": "5caf9d5e",
   "metadata": {},
   "outputs": [],
   "source": [
    "# TASK 2.3\n",
    "\n",
    "x=int(input())\n",
    "if x<-5:\n",
    "    print('Принадлежит промежутку (-inf,-5)')\n",
    "elif -5<= x <=5:\n",
    "    print('Принадлежит промежутку [-5, 5]')\n",
    "else:\n",
    "    print('Принадлежит промежутку (5, +inf)')"
   ]
  },
  {
   "cell_type": "code",
   "execution_count": null,
   "id": "57c14cd0",
   "metadata": {},
   "outputs": [],
   "source": [
    "# TASK 3.3.1\n",
    "\n",
    "x = 10\n",
    "while x>=0:\n",
    "    print(x)\n",
    "    x-=3"
   ]
  },
  {
   "cell_type": "code",
   "execution_count": null,
   "id": "157b2a86",
   "metadata": {},
   "outputs": [],
   "source": [
    "# TASK 3.3.2\n",
    "\n",
    "spisok = ['hair_color', 'age','eye_color', 'gender' ]\n",
    "\n",
    "print(spisok)"
   ]
  },
  {
   "cell_type": "code",
   "execution_count": null,
   "id": "ae62e4cb",
   "metadata": {},
   "outputs": [],
   "source": [
    "# TASK 3.3.3\n",
    "\n",
    "text = range(2,16,1)\n",
    "print(list(text))"
   ]
  },
  {
   "cell_type": "code",
   "execution_count": null,
   "id": "7ad78e7b",
   "metadata": {},
   "outputs": [],
   "source": [
    "# TASK 3.3.4\n",
    "\n",
    "for i in range (105,4,-25):\n",
    "    print(i)"
   ]
  },
  {
   "cell_type": "code",
   "execution_count": null,
   "id": "dc445c37",
   "metadata": {},
   "outputs": [],
   "source": [
    "# TASK 3.3.5\n",
    "\n",
    "x = [0, 1, 2, 3, 4, 5, 6, 7, 8, 9]\n",
    "x[0::2] = reversed(x[0::2])\n",
    "print(x)"
   ]
  },
  {
   "cell_type": "code",
   "execution_count": null,
   "id": "cbe3e6e9",
   "metadata": {},
   "outputs": [],
   "source": [
    "# TASK 4.3.1\n",
    "\n",
    "import numpy as np\n",
    "import numpy.random as rand \n",
    "\n",
    "x = np.random.sample(10)\n",
    "print('\\n', x)\n",
    "print('\\n', np.mean(x), np.median(x))"
   ]
  },
  {
   "cell_type": "code",
   "execution_count": 2,
   "id": "f21287f0",
   "metadata": {},
   "outputs": [
    {
     "data": {
      "text/plain": [
       "[<matplotlib.lines.Line2D at 0x1270b6b2be0>]"
      ]
     },
     "execution_count": 2,
     "metadata": {},
     "output_type": "execute_result"
    },
    {
     "data": {
      "image/png": "[encoded data removed]",
      "text/plain": [
       "<Figure size 432x288 with 1 Axes>"
      ]
     },
     "metadata": {
      "needs_background": "light"
     },
     "output_type": "display_data"
    }
   ],
   "source": [
    "# TASK 4.3.2\n",
    "\n",
    "import numpy as np\n",
    "import matplotlib.pyplot as plt\n",
    "\n",
    "x1 = np.arange(1, 10, 1)\n",
    "y1 = (np.sqrt(1 + np.exp(np.sqrt(x1)) + np.cos(np.power(x1, 2))))/np.abs(1 - np.power(np.sin(x1), 3)) + np.log10(np.abs(2*x1))\n",
    "plt.grid()\n",
    "plt.plot(x1, y1, c = \"r\")"
   ]
  },
  {
   "cell_type": "code",
   "execution_count": 1,
   "id": "9dcccb09",
   "metadata": {},
   "outputs": [
    {
     "name": "stdout",
     "output_type": "stream",
     "text": [
      "4.120458413640483\n"
     ]
    },
    {
     "data": {
      "image/png": "[encoded data removed]",
      "text/plain": [
       "<Figure size 432x288 with 1 Axes>"
      ]
     },
     "metadata": {
      "needs_background": "light"
     },
     "output_type": "display_data"
    }
   ],
   "source": [
    "# TASK 4.3.3\n",
    "\n",
    "import numpy as np\n",
    "import matplotlib.pyplot as plt\n",
    "from numpy import trapz\n",
    "\n",
    "x2 = np.arange(1, 10, 1)\n",
    "y2 = np.abs(np.cos(x2 * np.exp(np.cos(x2) + np.log10(x2 + 1))))\n",
    "plt.grid()\n",
    "plt.plot(x2, y2, c = \"r\")\n",
    "plt.fill_between(x2, y2)\n",
    "\n",
    "area = trapz(y2)\n",
    "print(area)"
   ]
  },
  {
   "cell_type": "code",
   "execution_count": null,
   "id": "180e979f",
   "metadata": {},
   "outputs": [],
   "source": [
    "# TASK 4.3.4\n",
    "\n"
   ]
  },
  {
   "cell_type": "code",
   "execution_count": null,
   "id": "7a01e92c",
   "metadata": {},
   "outputs": [
    {
     "name": "stdout",
     "output_type": "stream",
     "text": [
      "Ноль в качестве знака операции\n",
      "завершит работу программы\n"
     ]
    }
   ],
   "source": [
    "# TASK 4.3.5\n",
    "\n",
    "import math as m\n",
    "import numpy as np\n",
    "print(\"Ноль в качестве знака операции\"\n",
    "      \"\\nзавершит работу программы\")\n",
    "while True:\n",
    "    s = input(\"Знак ('+', '-', '*', '/', 'e','cos','sin','^') \")\n",
    "    if s == '0':\n",
    "        break\n",
    "    if s in ('+', '-', '*', '/', 'e','cos','sin','^'):\n",
    "        x = float(input(\"x=\"))\n",
    "        y = float(input(\"y=\"))\n",
    "        if s == '+':\n",
    "            print(\"%.2f\" % (x+y))\n",
    "        elif s == '-':\n",
    "            print(\"%.2f\" % (x-y))\n",
    "        elif s == '*':\n",
    "            print(\"%.2f\" % (x*y))\n",
    "        elif s == '/':\n",
    "            if y != 0:\n",
    "                print(\"%.2f\" % (x/y))\n",
    "            else:\n",
    "                print(\"Деление на ноль!\")\n",
    "        elif s == 'e':\n",
    "            print(\"%.2f\" % (np.exp(x+y)))\n",
    "        elif s == 'cos':\n",
    "            print(\"%.2f\" % (np.cos(x+y)))\n",
    "        elif s == 'sin':\n",
    "            print(\"%.2f\" % (np.sin(x+y)))\n",
    "        elif s == '^':\n",
    "            print(\"%.2f\" % (np.power(x,y)))\n",
    "        else:\n",
    "            print(\"Неверный знак операции!\")"
   ]
  },
  {
   "cell_type": "code",
   "execution_count": null,
   "id": "816a003a",
   "metadata": {},
   "outputs": [],
   "source": []
  }
 ],
 "metadata": {
  "kernelspec": {
   "display_name": "Python 3 (ipykernel)",
   "language": "python",
   "name": "python3"
  },
  "language_info": {
   "codemirror_mode": {
    "name": "ipython",
    "version": 3
   },
   "file_extension": ".py",
   "mimetype": "text/x-python",
   "name": "python",
   "nbconvert_exporter": "python",
   "pygments_lexer": "ipython3",
   "version": "3.9.7"
  }
 },
 "nbformat": 4,
 "nbformat_minor": 5
}
