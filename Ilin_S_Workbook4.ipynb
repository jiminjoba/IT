{
 "cells": [
  {
   "cell_type": "markdown",
   "metadata": {},
   "source": [
    "# РАБОЧАЯ ТЕТРАДЬ № 4"
   ]
  },
  {
   "cell_type": "markdown",
   "metadata": {},
   "source": [
    "# Ильин Сергей БББО-07-20"
   ]
  },
  {
   "cell_type": "markdown",
   "metadata": {},
   "source": [
    "## Рабочая тетрадь №4"
   ]
  },
  {
   "cell_type": "markdown",
   "metadata": {},
   "source": [
    "Регрессия – это зависимость среднего значения какой-либо величины от некоторой другой величины или от нескольких других величин. В отличие от чисто функциональной зависимости y=f(x), когда каждому значению независимой переменной x соответствует одно определённое значение зависимой переменной у, при регрессионной связи одному и тому же значению независимой переменной (фактору) x могут соответствовать в зависимости от конкретного случая различные значения зависимой переменной (отклика) у.\n",
    "Изучение регрессии основано на том, что случайные величины Х и Y связаны между собой вероятностной зависимостью: при каждом конкретном значении X=x величина Y является случайной величиной с вполне определённым распределением вероятностей. Зависимость зависимой переменной – отклика от одной независимой переменной – фактора или нескольких факторов называется уравнением регрессии. По количеству факторов выделяют парную (однофакторную) и множественную (многофакторную) регрессию. Для парной будем рассматривать следующие методы регрессии: линейную, показательную, экспоненциальную, гиперболическую и параболическую.\n",
    "Регрессионный анализ – это раздел математической статистики, изучающий регрессионную зависимость между случайными величинами по статистическим данным. Цель регрессионного анализа состоит в определении общего вида уравнения регрессии, вычислении оценок неизвестных параметров, входящих в уравнение регрессии проверке статистических гипотез о регрессионной связи.\n",
    "Таким образом, регрессионный анализ – набор статистических методов исследования влияния одной или нескольких независимых переменных X_1,…,X_n на зависимую переменную Y. Независимые переменные иначе называют регрессорами или предикторами, а зависимые переменные – критериальными переменными."
   ]
  },
  {
   "cell_type": "markdown",
   "metadata": {},
   "source": [
    "## 1.1. Теоретический материал – Линейные регрессионные модели"
   ]
  },
  {
   "cell_type": "markdown",
   "metadata": {},
   "source": [
    "Линейная регрессия (Linear regression) – модель зависимости переменной x от одной или нескольких других переменных (факторов, регрессоров, независимых переменных) с линейной функцией зависимости. Линейная регрессия относится к задаче определения «линии наилучшего соответствия» через набор точек данных и стала простым предшественником нелинейных методов, которые используют для обучения нейронных сетей.\n",
    "\n",
    "Цель линейной регрессии — поиск линии, которая наилучшим образом соответствует этим точкам. Напомним, что общее уравнение для прямой есть f (x) = b +m⋅x +, где m – наклон линии, а b – его сдвиг."
   ]
  },
  {
   "cell_type": "markdown",
   "metadata": {},
   "source": [
    "### Функция потерь — метод наименьших квадратов"
   ]
  },
  {
   "cell_type": "markdown",
   "metadata": {},
   "source": [
    "Функция потерь – это мера количества ошибок, которые наша линейная регрессия делает на наборе данных. Хотя есть разные функции потерь, все они вычисляют расстояние между предсказанным значением y(х) и его фактическим значением.\n",
    "Одна очень распространенная функция потерь называется средней квадратичной ошибкой MSE. Чтобы вычислить MSE, мы просто берем все значения ошибок, считаем их квадраты длин и усредняем."
   ]
  },
  {
   "cell_type": "markdown",
   "metadata": {},
   "source": [
    "### Задача экраполяции"
   ]
  },
  {
   "cell_type": "markdown",
   "metadata": {},
   "source": [
    "Допустим у нас есть много экспериментальных точек. Необходимо через них провести кривую, которая как можно ближе проходила к этим точкам. При этом необходимо минимизировать среднюю квадратичную ошибку (MSE).\n",
    "Для решения данной задачи в Python есть множество библиотек. Самыми распостраненными выступают:\n",
    "\n",
    "numpy - numpy.linalg.lstsq\n",
    "scipy - scipy.linalg (содержит все функции из numpy.linalg плюс часть новых функций, которых нет в numpy.linalg)."
   ]
  },
  {
   "cell_type": "markdown",
   "metadata": {},
   "source": [
    "### 1.1.1 Пример"
   ]
  },
  {
   "cell_type": "markdown",
   "metadata": {},
   "source": [
    "Задача:"
   ]
  },
  {
   "cell_type": "markdown",
   "metadata": {},
   "source": [
    "Проведем прямую y = mx + b  через экспериментальные точки."
   ]
  },
  {
   "cell_type": "code",
   "execution_count": 2,
   "metadata": {},
   "outputs": [
    {
     "data": {
      "text/plain": [
       "array([[0., 1.],\n",
       "       [1., 1.],\n",
       "       [2., 1.],\n",
       "       [3., 1.]])"
      ]
     },
     "execution_count": 2,
     "metadata": {},
     "output_type": "execute_result"
    }
   ],
   "source": [
    "import numpy as np\n",
    "x = np.array([0, 1, 2, 3])\n",
    "y = np.array([-1, 0.2, 0.9, 2.1])\n",
    "\n",
    "# Перепишем линейное уравнение y = mx + c как y = Ap, где A = [[ x 1 ]] и p = [[m], [c]]\n",
    "# Построим A по x:\n",
    "\n",
    "A = np.vstack([x, np.ones(len(x))]).T\n",
    "A"
   ]
  },
  {
   "cell_type": "code",
   "execution_count": 4,
   "metadata": {},
   "outputs": [
    {
     "name": "stdout",
     "output_type": "stream",
     "text": [
      "0.9999999999999997 -0.949999999999999\n"
     ]
    },
    {
     "data": {
      "image/png": "[encoded data removed]",
      "text/plain": [
       "<Figure size 432x288 with 1 Axes>"
      ]
     },
     "metadata": {
      "needs_background": "light"
     },
     "output_type": "display_data"
    }
   ],
   "source": [
    "# Используем метод lstsq для решения его относительно вектора p.\n",
    "m, c = np.linalg.lstsq(A, y, rcond = None)[0]\n",
    "print(m, c)\n",
    "# Построим график полученной прямлй и укажем на нем точки\n",
    "import matplotlib.pyplot as plt\n",
    "plt.plot(x, y, 'o', label = 'Исходные данные', markersize=10)\n",
    "plt.plot(x, m*x + c, 'r', label='Линейная экстраполяция')\n",
    "plt.legend()\n",
    "plt.show()"
   ]
  },
  {
   "cell_type": "markdown",
   "metadata": {},
   "source": [
    "### 1.1.2 Пример"
   ]
  },
  {
   "cell_type": "markdown",
   "metadata": {},
   "source": [
    "Задача:"
   ]
  },
  {
   "cell_type": "markdown",
   "metadata": {},
   "source": [
    "Пусть x,y – вектора длиной n > 3 (точек > 3). Задача заключается в построении эстраполяционного полинома второго порядка (параболы). Таким образом, необходимо найти такие коэффициенты поринома a,b,c по методу наименьших квадратов. Данные мтогут быть получены в результате измерений. Покажем пример генерации данных случайным образом и загрузки их из файла."
   ]
  },
  {
   "cell_type": "markdown",
   "metadata": {},
   "source": [
    "Решение:"
   ]
  },
  {
   "cell_type": "code",
   "execution_count": 5,
   "metadata": {},
   "outputs": [
    {
     "name": "stdout",
     "output_type": "stream",
     "text": [
      "[-4.69642192 -3.61580253 -2.94683874 -1.84605082 -0.98906451  0.2849044\n",
      "  0.58841552  1.83225852  3.30106407  3.79462079  4.9029357 ]\n",
      "[25.48375336 16.43308011  9.47520236  3.99020677  1.25665531 -0.17980657\n",
      "  0.88474548  4.38391371  8.50104578 16.22813807 25.25620919]\n"
     ]
    },
    {
     "data": {
      "image/png": "[encoded data removed]",
      "text/plain": [
       "<Figure size 432x288 with 1 Axes>"
      ]
     },
     "metadata": {
      "needs_background": "light"
     },
     "output_type": "display_data"
    }
   ],
   "source": [
    "from numpy import *\n",
    "from numpy.random import *\n",
    "# генерируем случайные x и y\n",
    "delta = 1.0\n",
    "x = linspace(-5,5,11)\n",
    "y = x**2+delta*(rand(11)-0.5)\n",
    "x += delta*(rand(11)-0.5)\n",
    "\n",
    "# записываем данные в файл\n",
    "x.tofile('x_data.txt', '\\n')\n",
    "y.tofile('y_data.txt', '\\n')\n",
    "# читаем данные из файлов\n",
    "x = fromfile('x_data.txt', float, sep='\\n')\n",
    "y = fromfile('y_data.txt', float, sep='\\n')\n",
    "\n",
    "print(x)\n",
    "print(y)\n",
    "# нахождение коэффициентов функции вида y = ax^2 + bx + c методом наименьших квадратов\n",
    "# задаем вектор m = [x**2, x, E]\n",
    "m = vstack((x**2, x, ones(11))).T\n",
    "# находим коэффициенты при составляющих вектора m\n",
    "s = np.linalg.lstsq(m, y, rcond = None)[0]\n",
    "\n",
    "# на отрезке [-5, 5]\n",
    "x_prec = linspace(-5, 5, 101)\n",
    "# рисуем точки\n",
    "plt.plot(x, y, 'D')\n",
    "# рисуем кривую вида y = ax^2 + bx + c, подставляя из решения коэффициенты s[0], s[1], s[2]\n",
    "plt.plot(x_prec, s[0] * x_prec**2 + s[1] * x_prec + s[2], '-', lw=2)\n",
    "plt.grid()\n",
    "plt.savefig('парабола.png')"
   ]
  },
  {
   "cell_type": "markdown",
   "metadata": {},
   "source": [
    "### 1.1.3 Пример"
   ]
  },
  {
   "cell_type": "markdown",
   "metadata": {},
   "source": [
    "Задача:"
   ]
  },
  {
   "cell_type": "markdown",
   "metadata": {},
   "source": [
    "По данным предыдущего примера постройте эстраполяционного полинома третьего порядка:"
   ]
  },
  {
   "cell_type": "markdown",
   "metadata": {},
   "source": [
    "Решение:"
   ]
  },
  {
   "cell_type": "code",
   "execution_count": 6,
   "metadata": {},
   "outputs": [
    {
     "data": {
      "image/png": "[encoded data removed]",
      "text/plain": [
       "<Figure size 432x288 with 1 Axes>"
      ]
     },
     "metadata": {
      "needs_background": "light"
     },
     "output_type": "display_data"
    }
   ],
   "source": [
    "# нахождение коэффициентов функции вида y = ax^3 + bx^2 + cx + d методом наименьших квадратов\n",
    "# задаем вектор m = [x**3, x, E]\n",
    "m = vstack((x**3, x**2, x, ones(11))).T\n",
    "# находим коэффициенты при составляющих вектора m\n",
    "s = np.linalg.lstsq(m, y, rcond = None)[0]\n",
    "\n",
    "# на отрезке [-5, 5]\n",
    "x_prec = linspace(-5, 5, 101)\n",
    "# рисуем точки\n",
    "plt.plot(x, y, 'D')\n",
    "# рисуем кривую вида y = ax^3 + bx^2 + cx + d, подставляя из решения коэффициенты s[0], s[1], s[2], s[3]\n",
    "plt.plot(x_prec, s[0] * x_prec**3 + s[1] * x_prec**2 + s[2] * x_prec + s[3], '-', lw=3)\n",
    "plt.grid()\n",
    "plt.savefig('полином 3-й степени.png')"
   ]
  },
  {
   "cell_type": "markdown",
   "metadata": {},
   "source": [
    "### Задание:"
   ]
  },
  {
   "cell_type": "markdown",
   "metadata": {},
   "source": [
    "Представьте собственные данные и постройте эктраполяцию полиномами первой, второй и третьей степени."
   ]
  },
  {
   "cell_type": "markdown",
   "metadata": {},
   "source": [
    "### Решение:"
   ]
  },
  {
   "cell_type": "code",
   "execution_count": 8,
   "metadata": {},
   "outputs": [
    {
     "data": {
      "image/png": "[encoded data removed]",
      "text/plain": [
       "<Figure size 432x288 with 1 Axes>"
      ]
     },
     "metadata": {
      "needs_background": "light"
     },
     "output_type": "display_data"
    },
    {
     "data": {
      "image/png": "[encoded data removed]",
      "text/plain": [
       "<Figure size 432x288 with 1 Axes>"
      ]
     },
     "metadata": {
      "needs_background": "light"
     },
     "output_type": "display_data"
    }
   ],
   "source": [
    "import numpy as np\n",
    "import matplotlib.pyplot as plt\n",
    "from numpy import *\n",
    "\n",
    "x=np.array([0, 1, 2, 3])\n",
    "y=np.array([0, 1.2, 2.9, 4.1])\n",
    "\n",
    "A=np.vstack([x, np.ones(len(x))]).T\n",
    "m, c = np.linalg.lstsq(A, y, rcond = None)[0]\n",
    "\n",
    "plt.plot(x, y, 'o', label='Исходные данне', markersize=10)\n",
    "plt.plot(x, m*x + c, 'r', label='Линейная экстраполяция')\n",
    "plt.legend()\n",
    "plt.show()\n",
    "\n",
    "\n",
    "\n",
    "x=np.array([-3, -2, -1, 0, 1, 2, 3])\n",
    "y=np.array([8, 6, 1, -3, 2, 5, 9])\n",
    "\n",
    "m = vstack((x**2, x, ones(7))).T\n",
    "s = np.linalg.lstsq(m, y, rcond = None)[0]\n",
    "\n",
    "x_prec = linspace(-3, 3, 10)\n",
    "plt.plot(x, y, 'D')\n",
    "plt.plot(x_prec, s[0] * x_prec**2 + s[1] * x_prec + s[2], '-', lw=2)\n",
    "plt.grid()\n",
    "plt.savefig('парабола.png')"
   ]
  },
  {
   "cell_type": "code",
   "execution_count": 10,
   "metadata": {},
   "outputs": [
    {
     "data": {
      "image/png": "[encoded data removed]",
      "text/plain": [
       "<Figure size 432x288 with 1 Axes>"
      ]
     },
     "metadata": {
      "needs_background": "light"
     },
     "output_type": "display_data"
    }
   ],
   "source": [
    "x=np.array([-3, -2, -1, 0, 1, 2, 3])\n",
    "y=np.array([35, 26, 14, 7, 8, 10, 40])\n",
    "\n",
    "m = vstack((x**3, x**2, x, ones(7))).T\n",
    "s = np.linalg.lstsq(m, y, rcond = None)[0]\n",
    "\n",
    "x_prec = linspace(-3, 3, 101)\n",
    "plt.plot(x, y, 'D')\n",
    "plt.plot(x_prec, s[0] * x_prec**3 + s[1] * x_prec**2 + s[2] * x_prec + s[3], '-', lw=3)\n",
    "plt.grid()\n",
    "plt.savefig('полином 3-й степени.png')"
   ]
  },
  {
   "cell_type": "markdown",
   "metadata": {},
   "source": [
    "### 1.1.4 Пример"
   ]
  },
  {
   "cell_type": "markdown",
   "metadata": {},
   "source": [
    "Задача:"
   ]
  },
  {
   "cell_type": "markdown",
   "metadata": {},
   "source": [
    "Необходимо проверить гипотезу, что наши точечно заданная функция ложится на кривую вида f(x,b) = b0  + b1 exp(-b2x^2)"
   ]
  },
  {
   "cell_type": "markdown",
   "metadata": {},
   "source": [
    "Решение:"
   ]
  },
  {
   "cell_type": "code",
   "execution_count": 18,
   "metadata": {},
   "outputs": [
    {
     "data": {
      "text/plain": [
       "array([0.25506248, 0.75298411, 0.52079173])"
      ]
     },
     "execution_count": 18,
     "metadata": {},
     "output_type": "execute_result"
    }
   ],
   "source": [
    "import numpy as np\n",
    "import matplotlib.pyplot as plt\n",
    "import scipy as sp\n",
    "#Добавим шума в данные, сделанные по функции f(x,b) с коэффициентами b = (0.25, 0.75, 0.5)\n",
    "beta = (0.25, 0.75, 0.5) \n",
    "def f(x, b0, b1, b2):\n",
    "    return b0 + b1 * np.exp(-b2 * x**2)\n",
    "# зададим массив точек xi \n",
    "xdata = np.linspace(0, 5, 50) \n",
    "# создаем теоретически правильные значения точек уі (без шума) \n",
    "y = f(xdata, *beta) \n",
    "# зашумляем эти данные \n",
    "ydata = y + 0.05 * np.random.randn(len(xdata))\n",
    "\n",
    "#Используем функцию для получения решения в виде коэффициентов функции f(x) для указанных xdata и ydata \n",
    "from scipy.optimize import curve_fit \n",
    "beta_opt, beta_cov = sp.optimize.curve_fit(f, xdata, ydata) \n",
    "beta_opt"
   ]
  },
  {
   "cell_type": "code",
   "execution_count": 19,
   "metadata": {},
   "outputs": [
    {
     "name": "stdout",
     "output_type": "stream",
     "text": [
      "0.00025295850071377883\n",
      "0.12954667769139167\n"
     ]
    },
    {
     "data": {
      "image/png": "[encoded data removed]",
      "text/plain": [
       "<Figure size 432x288 with 1 Axes>"
      ]
     },
     "metadata": {
      "needs_background": "light"
     },
     "output_type": "display_data"
    }
   ],
   "source": [
    "#Вычислим линейное отклонение \n",
    "lin_dev = sum(beta_cov[0]) \n",
    "print(lin_dev)\n",
    "\n",
    "#Вычислим квадратичное отклонение \n",
    "residuals = ydata - f(xdata,*beta_opt) \n",
    "fres = sum(residuals**2) \n",
    "print(fres)\n",
    "\n",
    "fig, ax = plt.subplots() \n",
    "ax.scatter(xdata, ydata) \n",
    "ax.plot(xdata, y, 'r', lw=2) \n",
    "ax.plot(xdata, f(xdata, *beta_opt), 'b', lw=2) \n",
    "ax.set_xlim(0, 5) \n",
    "ax.set_xlabel(r\"$x$\", fontsize=18) \n",
    "ax.set_ylabel(r\"$f(x, \\beta)$\", fontsize=18) \n",
    "plt.show()"
   ]
  },
  {
   "cell_type": "markdown",
   "metadata": {},
   "source": [
    "### 1.1.5 Пример"
   ]
  },
  {
   "cell_type": "markdown",
   "metadata": {},
   "source": [
    "Задача:"
   ]
  },
  {
   "cell_type": "markdown",
   "metadata": {},
   "source": [
    "Необходимо проверить гипотезу, что наши точечно заданная функция ложится на кривые вида:\n",
    "\n",
    "1) f(x,b) = b0  + b1 * x\n",
    "\n",
    "2) f(x,b) = b0  + b1 * x + b2 * x^2\n",
    "\n",
    "3) f(x,b) = b0  + b1 * n(x) \n",
    "\n",
    "4) f(x,b) = b0 * x^(b1)   "
   ]
  },
  {
   "cell_type": "markdown",
   "metadata": {},
   "source": [
    "Решение:"
   ]
  },
  {
   "cell_type": "code",
   "execution_count": 14,
   "metadata": {},
   "outputs": [
    {
     "name": "stdout",
     "output_type": "stream",
     "text": [
      "[0.2459536  0.75450558]\n",
      "0.00014502855502703568\n",
      "0.1275251095149311\n"
     ]
    },
    {
     "data": {
      "image/png": "[encoded data removed]",
      "text/plain": [
       "<Figure size 432x288 with 1 Axes>"
      ]
     },
     "metadata": {
      "needs_background": "light"
     },
     "output_type": "display_data"
    }
   ],
   "source": [
    "import numpy as np\n",
    "import matplotlib.pyplot as plt\n",
    "import scipy as sp\n",
    "#решение \n",
    "#1\n",
    "#Добавим шума в данные, сделанные по функции f(x,b) с коэффициентами b = (0.25, 0.75)\n",
    "beta = (0.25, 0.75) \n",
    "def f(x, b0, b1):\n",
    "    return b0 + b1 * x\n",
    "# зададим массив точек xi \n",
    "xdata = np.linspace(0, 5, 50) \n",
    "# создаем теоретически правильные значения точек уі (без шума) \n",
    "y = f(xdata, *beta) \n",
    "# зашумляем эти данные \n",
    "ydata = y + 0.05 * np.random.randn(len(xdata)) \n",
    "beta_opt, beta_cov = sp.optimize.curve_fit(f, xdata, ydata) \n",
    "print(beta_opt) \n",
    "#Вычислим линейное отклонение \n",
    "lin_dev = sum(beta_cov[0]) \n",
    "print(lin_dev)\n",
    "\n",
    "#Вычислим квадратичное отклонение \n",
    "residuals = ydata - f(xdata, *beta_opt) \n",
    "fres = sum(residuals**2) \n",
    "print(fres)\n",
    "\n",
    "fig, ax = plt.subplots() \n",
    "ax.scatter(xdata, ydata) \n",
    "ax.plot(xdata, y, 'r', lw=2) \n",
    "ax.plot(xdata, f(xdata, *beta_opt), 'b', lw=2) \n",
    "ax.set_xlim(0, 5) \n",
    "ax.set_xlabel(r\"$x$\", fontsize=18) \n",
    "ax.set_ylabel(r\"$f(x, \\beta)$\", fontsize=18) \n",
    "plt.show()"
   ]
  },
  {
   "cell_type": "code",
   "execution_count": 15,
   "metadata": {},
   "outputs": [
    {
     "name": "stdout",
     "output_type": "stream",
     "text": [
      "[0.23529066 0.75465568 0.49989437]\n",
      "9.401094723873633e-05\n",
      "0.07839528457127592\n"
     ]
    },
    {
     "data": {
      "image/png": "[encoded data removed]",
      "text/plain": [
       "<Figure size 432x288 with 1 Axes>"
      ]
     },
     "metadata": {
      "needs_background": "light"
     },
     "output_type": "display_data"
    }
   ],
   "source": [
    "#решение \n",
    "#2\n",
    "#Добавим шума в данные, сделанные по функции f(x,b) с коэффициентами b = (0.25, 0.75, 0.5)\n",
    "beta = (0.25, 0.75, 0.5) \n",
    "def f(x, b0, b1, b2):\n",
    "    return b0 + b1 * x + b2 * x * x\n",
    "# зададим массив точек хі \n",
    "xdata = np.linspace(0, 5, 50) \n",
    "# создаем теоретически правильные значения точек уі (без шума) \n",
    "y = f(xdata, *beta) \n",
    "# зашумляем эти данные \n",
    "ydata = y + 0.05 * np.random.randn(len(xdata)) \n",
    "beta_opt, beta_cov = sp.optimize.curve_fit(f, xdata, ydata) \n",
    "print(beta_opt) \n",
    "#Вычислим линейное отклонение \n",
    "lin_dev = sum(beta_cov[0]) \n",
    "print(lin_dev)\n",
    "\n",
    "#Вычислим квадратичное отклонение \n",
    "residuals = ydata - f(xdata, *beta_opt) \n",
    "fres = sum(residuals**2) \n",
    "print(fres)\n",
    "\n",
    "fig, ax = plt.subplots() \n",
    "ax.scatter(xdata, ydata) \n",
    "ax.plot(xdata, y, 'r', lw=2) \n",
    "ax.plot(xdata, f(xdata, *beta_opt), 'b', lw=2) \n",
    "ax.set_xlim(0, 5) \n",
    "ax.set_xlabel(r\"$x$\", fontsize=18) \n",
    "ax.set_ylabel(r\"$f(x, \\beta)$\", fontsize=18) \n",
    "plt.show()"
   ]
  },
  {
   "cell_type": "code",
   "execution_count": 16,
   "metadata": {
    "scrolled": true
   },
   "outputs": [
    {
     "name": "stdout",
     "output_type": "stream",
     "text": [
      "[0.9603583  2.02463333]\n",
      "6.0011961184743565e-05\n",
      "0.1387741418408054\n"
     ]
    },
    {
     "data": {
      "image/png": "[encoded data removed]",
      "text/plain": [
       "<Figure size 432x288 with 1 Axes>"
      ]
     },
     "metadata": {
      "needs_background": "light"
     },
     "output_type": "display_data"
    }
   ],
   "source": [
    "#решение \n",
    "#3\n",
    "#Добавим шума в данные, сделанные по функции f(x,b) с коэффициентами b = (1, 2) \n",
    "beta = (1, 2) \n",
    "def f(x, b0, b1):\n",
    "    return b0 + b1 * np.log(x)\n",
    "# зададим массив точек xi \n",
    "xdata = np.linspace(1, 5, 50) \n",
    "# создаем теоретически правильные значения точек уі (без шума) \n",
    "y = f(xdata, *beta) \n",
    "# зашумляем эти данные \n",
    "ydata = y + 0.05 * np.random.randn(len(xdata)) \n",
    "beta_opt, beta_cov = sp.optimize.curve_fit(f, xdata, ydata) \n",
    "print(beta_opt) \n",
    "#Вычислим линейное отклонение \n",
    "lin_dev = sum(beta_cov[0]) \n",
    "print(lin_dev)\n",
    "\n",
    "#Вычислим квадратичное отклонение \n",
    "residuals = ydata - f(xdata,*beta_opt) \n",
    "fres = sum(residuals**2) \n",
    "print(fres)\n",
    "\n",
    "fig, ax = plt.subplots() \n",
    "ax.scatter(xdata, ydata) \n",
    "ax.plot(xdata, y, 'r', lw=2) \n",
    "ax.plot(xdata, f(xdata, *beta_opt), 'b', lw=2) \n",
    "ax.set_xlim(0, 5) \n",
    "ax.set_xlabel(r\"$x$\", fontsize=18) \n",
    "ax.set_ylabel(r\"$f(x, \\beta)$\", fontsize=18) \n",
    "plt.show()"
   ]
  },
  {
   "cell_type": "code",
   "execution_count": 17,
   "metadata": {},
   "outputs": [
    {
     "name": "stdout",
     "output_type": "stream",
     "text": [
      "[1.00378385 1.99764945]\n",
      "3.816887694288016e-06\n",
      "0.0896514661041084\n"
     ]
    },
    {
     "data": {
      "image/png": "[encoded data removed]",
      "text/plain": [
       "<Figure size 432x288 with 1 Axes>"
      ]
     },
     "metadata": {
      "needs_background": "light"
     },
     "output_type": "display_data"
    }
   ],
   "source": [
    "#решение \n",
    "#4\n",
    "#Добавим шума в данные, сделанные по функции f(x,b) с коэффициентами b = (1, 2)\n",
    "beta = (1, 2) \n",
    "def f(x, b0, b1):\n",
    "    return b0 * x ** b1\n",
    "# зададим массив точек xi \n",
    "xdata = np. linspace(1, 5, 50) \n",
    "# создаем теоретически правильные значения точек уі (без шума) \n",
    "y = f(xdata, *beta) \n",
    "# зашумляем эти данные \n",
    "ydata = y + 0.05 * np.random.randn(len(xdata)) \n",
    "beta_opt, beta_cov = sp.optimize.curve_fit(f, xdata, ydata) \n",
    "print(beta_opt) \n",
    "#Вычислим линейное отклонение \n",
    "lin_dev = sum(beta_cov[0]) \n",
    "print(lin_dev)\n",
    "\n",
    "#Вычислим квадратичное отклонение \n",
    "residuals = ydata - f(xdata,*beta_opt) \n",
    "fres = sum(residuals**2) \n",
    "print(fres)\n",
    "\n",
    "fig, ax = plt.subplots() \n",
    "ax.scatter(xdata, ydata) \n",
    "ax.plot(xdata, y, 'r', lw=2) \n",
    "ax.plot(xdata, f(xdata, *beta_opt), 'b', lw=2) \n",
    "ax.set_xlim(0, 5) \n",
    "ax.set_xlabel(r\"$x$\", fontsize=18) \n",
    "ax.set_ylabel(r\"$f(x, \\beta)$\", fontsize=18) \n",
    "plt.show()"
   ]
  },
  {
   "cell_type": "markdown",
   "metadata": {},
   "source": [
    "### Задание:"
   ]
  },
  {
   "cell_type": "markdown",
   "metadata": {},
   "source": [
    "Подставьте собственные данные и поэкспериментируйте с представленными функциями. Проанализируйте динамику изменения данных."
   ]
  },
  {
   "cell_type": "markdown",
   "metadata": {},
   "source": [
    "### Решение:"
   ]
  },
  {
   "cell_type": "code",
   "execution_count": 37,
   "metadata": {},
   "outputs": [
    {
     "data": {
      "image/png": "[encoded data removed]",
      "text/plain": [
       "<Figure size 432x288 with 1 Axes>"
      ]
     },
     "metadata": {
      "needs_background": "light"
     },
     "output_type": "display_data"
    },
    {
     "data": {
      "image/png": "[encoded data removed]",
      "text/plain": [
       "<Figure size 432x288 with 1 Axes>"
      ]
     },
     "metadata": {
      "needs_background": "light"
     },
     "output_type": "display_data"
    },
    {
     "data": {
      "image/png": "[encoded data removed]",
      "text/plain": [
       "<Figure size 432x288 with 1 Axes>"
      ]
     },
     "metadata": {
      "needs_background": "light"
     },
     "output_type": "display_data"
    },
    {
     "data": {
      "image/png": "[encoded data removed]",
      "text/plain": [
       "<Figure size 432x288 with 1 Axes>"
      ]
     },
     "metadata": {
      "needs_background": "light"
     },
     "output_type": "display_data"
    },
    {
     "data": {
      "image/png": "[encoded data removed]",
      "text/plain": [
       "<Figure size 432x288 with 1 Axes>"
      ]
     },
     "metadata": {
      "needs_background": "light"
     },
     "output_type": "display_data"
    }
   ],
   "source": [
    "import numpy as np\n",
    "import matplotlib.pyplot as plt\n",
    "import scipy as sp\n",
    "beta = (0.2, 0.8, 0.4) \n",
    "def f(x, b0, b1, b2):\n",
    "    return b0 + b1 * np.exp(-b2 * x**2)\n",
    "xdata = np.linspace(0, 2, 50) \n",
    "y = f(xdata, *beta) \n",
    "ydata = y + 0.05 * np.random.randn(len(xdata))\n",
    " \n",
    "from scipy.optimize import curve_fit \n",
    "beta_opt, beta_cov = sp.optimize.curve_fit(f, xdata, ydata) \n",
    " \n",
    "lin_dev = sum(beta_cov[0]) \n",
    " \n",
    "residuals = ydata - f(xdata,*beta_opt) \n",
    "fres = sum(residuals**2) \n",
    "\n",
    "fig, ax = plt.subplots() \n",
    "ax.scatter(xdata, ydata) \n",
    "ax.plot(xdata, y, 'r', lw=2) \n",
    "ax.plot(xdata, f(xdata, *beta_opt), 'b', lw=2) \n",
    "ax.set_xlim(0, 2,5) \n",
    "ax.set_xlabel(r\"$x$\", fontsize=18) \n",
    "ax.set_ylabel(r\"$f(x, \\beta)$\", fontsize=18) \n",
    "plt.show()\n",
    "\n",
    "\n",
    "\n",
    "beta = (0.8, 1.75) \n",
    "def f(x, b0, b1):\n",
    "    return b0 + b1 * x\n",
    "xdata = np.linspace(0, 2, 40) \n",
    "y = f(xdata, *beta) \n",
    "ydata = y + 0.05 * np.random.randn(len(xdata)) \n",
    "beta_opt, beta_cov = sp.optimize.curve_fit(f, xdata, ydata)  \n",
    "lin_dev = sum(beta_cov[0]) \n",
    "\n",
    "residuals = ydata - f(xdata, *beta_opt) \n",
    "fres = sum(residuals**2) \n",
    "\n",
    "fig, ax = plt.subplots() \n",
    "ax.scatter(xdata, ydata) \n",
    "ax.plot(xdata, y, 'r', lw=2) \n",
    "ax.plot(xdata, f(xdata, *beta_opt), 'b', lw=2) \n",
    "ax.set_xlim(0, 2.1) \n",
    "ax.set_xlabel(r\"$x$\", fontsize=18) \n",
    "ax.set_ylabel(r\"$f(x, \\beta)$\", fontsize=18) \n",
    "plt.show()\n",
    "\n",
    "\n",
    "\n",
    "beta = (0.5, 1, 1.5) \n",
    "def f(x, b0, b1, b2):\n",
    "    return b0 + b1 * x + b2 * x * x\n",
    "xdata = np.linspace(-5, 3, 55) \n",
    "y = f(xdata, *beta) \n",
    "ydata = y + 0.05 * np.random.randn(len(xdata)) \n",
    "beta_opt, beta_cov = sp.optimize.curve_fit(f, xdata, ydata)  \n",
    "lin_dev = sum(beta_cov[0]) \n",
    "\n",
    "residuals = ydata - f(xdata, *beta_opt) \n",
    "fres = sum(residuals**2) \n",
    "\n",
    "fig, ax = plt.subplots() \n",
    "ax.scatter(xdata, ydata) \n",
    "ax.plot(xdata, y, 'r', lw=2) \n",
    "ax.plot(xdata, f(xdata, *beta_opt), 'b', lw=2) \n",
    "ax.set_xlim(-5.1, 3.1) \n",
    "ax.set_xlabel(r\"$x$\", fontsize=18) \n",
    "ax.set_ylabel(r\"$f(x, \\beta)$\", fontsize=18) \n",
    "plt.show()\n",
    "\n",
    "\n",
    "\n",
    "beta = (2, 8) \n",
    "def f(x, b0, b1):\n",
    "    return b0 + b1 * np.log(x)\n",
    "xdata = np.linspace(3, 4, 88) \n",
    "y = f(xdata, *beta) \n",
    "ydata = y + 0.05 * np.random.randn(len(xdata)) \n",
    "beta_opt, beta_cov = sp.optimize.curve_fit(f, xdata, ydata) \n",
    "lin_dev = sum(beta_cov[0]) \n",
    " \n",
    "residuals = ydata - f(xdata,*beta_opt) \n",
    "fres = sum(residuals**2) \n",
    "\n",
    "fig, ax = plt.subplots() \n",
    "ax.scatter(xdata, ydata) \n",
    "ax.plot(xdata, y, 'r', lw=2) \n",
    "ax.plot(xdata, f(xdata, *beta_opt), 'b', lw=2) \n",
    "ax.set_xlim(2.9, 4.1) \n",
    "ax.set_xlabel(r\"$x$\", fontsize=18) \n",
    "ax.set_ylabel(r\"$f(x, \\beta)$\", fontsize=18) \n",
    "plt.show()\n",
    "\n",
    "\n",
    "\n",
    "beta = (3, 12) \n",
    "def f(x, b0, b1):\n",
    "    return b0 * x ** b1\n",
    "xdata = np. linspace(5, 9, 66) \n",
    "y = f(xdata, *beta) \n",
    "ydata = y + 0.05 * np.random.randn(len(xdata)) \n",
    "beta_opt, beta_cov = sp.optimize.curve_fit(f, xdata, ydata)  \n",
    "lin_dev = sum(beta_cov[0]) \n",
    " \n",
    "residuals = ydata - f(xdata,*beta_opt) \n",
    "fres = sum(residuals**2) \n",
    "\n",
    "fig, ax = plt.subplots() \n",
    "ax.scatter(xdata, ydata) \n",
    "ax.plot(xdata, y, 'r', lw=2) \n",
    "ax.plot(xdata, f(xdata, *beta_opt), 'b', lw=2) \n",
    "ax.set_xlim(4.9, 9.1) \n",
    "ax.set_xlabel(r\"$x$\", fontsize=18) \n",
    "ax.set_ylabel(r\"$f(x, \\beta)$\", fontsize=18) \n",
    "plt.show()"
   ]
  },
  {
   "cell_type": "markdown",
   "metadata": {},
   "source": [
    "## 1.2. Теоретический материал – Задачи регрессии"
   ]
  },
  {
   "cell_type": "markdown",
   "metadata": {},
   "source": [
    "Линейная регрессия - это широко используемый метод статистического анализа, который использует регрессионный анализ в математической статистике для определения количественной взаимосвязи между двумя или более переменными. Если регрессионный анализ включает две или более независимых переменных, а связь между зависимой и независимой переменными является линейной, тогда имеем дело с множественной линейной регрессией.\n",
    "В этом разделе мы увидим, как библиотеку Scikit-Learn в Python для машинного обучения можно использовать для реализации функций регрессии. Мы начнем с простой линейной регрессии с участием двух переменных, а затем перейдем к линейной регрессии с участием нескольких переменных."
   ]
  },
  {
   "cell_type": "markdown",
   "metadata": {},
   "source": [
    "### 1.2.1 Пример"
   ]
  },
  {
   "cell_type": "markdown",
   "metadata": {},
   "source": [
    "Задача:"
   ]
  },
  {
   "cell_type": "markdown",
   "metadata": {},
   "source": [
    "Построим простую линейную регрессию в Python с использованием библиотеки scikit-learn"
   ]
  },
  {
   "cell_type": "markdown",
   "metadata": {},
   "source": [
    "Решение:"
   ]
  },
  {
   "cell_type": "code",
   "execution_count": 2,
   "metadata": {},
   "outputs": [
    {
     "data": {
      "text/html": [
       "<div>\n",
       "<style scoped>\n",
       "    .dataframe tbody tr th:only-of-type {\n",
       "        vertical-align: middle;\n",
       "    }\n",
       "\n",
       "    .dataframe tbody tr th {\n",
       "        vertical-align: top;\n",
       "    }\n",
       "\n",
       "    .dataframe thead th {\n",
       "        text-align: right;\n",
       "    }\n",
       "</style>\n",
       "<table border=\"1\" class=\"dataframe\">\n",
       "  <thead>\n",
       "    <tr style=\"text-align: right;\">\n",
       "      <th></th>\n",
       "      <th>Учебное время</th>\n",
       "      <th>Оценка</th>\n",
       "    </tr>\n",
       "  </thead>\n",
       "  <tbody>\n",
       "    <tr>\n",
       "      <th>0</th>\n",
       "      <td>0.50</td>\n",
       "      <td>10</td>\n",
       "    </tr>\n",
       "    <tr>\n",
       "      <th>1</th>\n",
       "      <td>0.75</td>\n",
       "      <td>22</td>\n",
       "    </tr>\n",
       "    <tr>\n",
       "      <th>2</th>\n",
       "      <td>1.00</td>\n",
       "      <td>13</td>\n",
       "    </tr>\n",
       "    <tr>\n",
       "      <th>3</th>\n",
       "      <td>1.25</td>\n",
       "      <td>43</td>\n",
       "    </tr>\n",
       "    <tr>\n",
       "      <th>4</th>\n",
       "      <td>1.50</td>\n",
       "      <td>20</td>\n",
       "    </tr>\n",
       "  </tbody>\n",
       "</table>\n",
       "</div>"
      ],
      "text/plain": [
       "   Учебное время  Оценка\n",
       "0           0.50      10\n",
       "1           0.75      22\n",
       "2           1.00      13\n",
       "3           1.25      43\n",
       "4           1.50      20"
      ]
     },
     "execution_count": 2,
     "metadata": {},
     "output_type": "execute_result"
    }
   ],
   "source": [
    "#Импортируем необходимые библиотеки \n",
    "#используем pandas и питру для обработки данных, \n",
    "#matplotlib для визуализации и sklearn для обучения наборов данных и импорта моделей.\n",
    "import pandas as pd \n",
    "import numpy as np \n",
    "import matplotlib.pyplot as plt \n",
    "from pandas import DataFrame,Series \n",
    "from sklearn.model_selection import train_test_split \n",
    "from sklearn.linear_model import LinearRegression\n",
    "\n",
    "#создадим набор данных для описания взаимосвязи между временем обучения студентов и успеваемостью \n",
    "my_dict = {'Учебное время': [0.50,0.75,1.00,1.25,1.50,1.75,1.75,2.00,2.25,2.50,2.75,3.00,3.25,3.50,4.00,4.25,4.50,4.75,\n",
    "                             5.00,5.50],\n",
    "           'Оценка': [10,22,13,43,20,22,33,50,62,48,55,75,62,73,81,76,64,82,90,93]}\n",
    "\n",
    "dataset = pd.DataFrame(my_dict) \n",
    "dataset.head()"
   ]
  },
  {
   "cell_type": "code",
   "execution_count": 24,
   "metadata": {},
   "outputs": [
    {
     "name": "stdout",
     "output_type": "stream",
     "text": [
      "(20, 2)\n"
     ]
    },
    {
     "data": {
      "text/html": [
       "<div>\n",
       "<style scoped>\n",
       "    .dataframe tbody tr th:only-of-type {\n",
       "        vertical-align: middle;\n",
       "    }\n",
       "\n",
       "    .dataframe tbody tr th {\n",
       "        vertical-align: top;\n",
       "    }\n",
       "\n",
       "    .dataframe thead th {\n",
       "        text-align: right;\n",
       "    }\n",
       "</style>\n",
       "<table border=\"1\" class=\"dataframe\">\n",
       "  <thead>\n",
       "    <tr style=\"text-align: right;\">\n",
       "      <th></th>\n",
       "      <th>Учебное время</th>\n",
       "      <th>Оценка</th>\n",
       "    </tr>\n",
       "  </thead>\n",
       "  <tbody>\n",
       "    <tr>\n",
       "      <td>count</td>\n",
       "      <td>20.000000</td>\n",
       "      <td>20.000000</td>\n",
       "    </tr>\n",
       "    <tr>\n",
       "      <td>mean</td>\n",
       "      <td>2.787500</td>\n",
       "      <td>53.700000</td>\n",
       "    </tr>\n",
       "    <tr>\n",
       "      <td>std</td>\n",
       "      <td>1.507165</td>\n",
       "      <td>26.435821</td>\n",
       "    </tr>\n",
       "    <tr>\n",
       "      <td>min</td>\n",
       "      <td>0.500000</td>\n",
       "      <td>10.000000</td>\n",
       "    </tr>\n",
       "    <tr>\n",
       "      <td>25%</td>\n",
       "      <td>1.687500</td>\n",
       "      <td>30.250000</td>\n",
       "    </tr>\n",
       "    <tr>\n",
       "      <td>50%</td>\n",
       "      <td>2.625000</td>\n",
       "      <td>58.500000</td>\n",
       "    </tr>\n",
       "    <tr>\n",
       "      <td>75%</td>\n",
       "      <td>4.062500</td>\n",
       "      <td>75.250000</td>\n",
       "    </tr>\n",
       "    <tr>\n",
       "      <td>max</td>\n",
       "      <td>5.500000</td>\n",
       "      <td>93.000000</td>\n",
       "    </tr>\n",
       "  </tbody>\n",
       "</table>\n",
       "</div>"
      ],
      "text/plain": [
       "       Учебное время     Оценка\n",
       "count      20.000000  20.000000\n",
       "mean        2.787500  53.700000\n",
       "std         1.507165  26.435821\n",
       "min         0.500000  10.000000\n",
       "25%         1.687500  30.250000\n",
       "50%         2.625000  58.500000\n",
       "75%         4.062500  75.250000\n",
       "max         5.500000  93.000000"
      ]
     },
     "execution_count": 24,
     "metadata": {},
     "output_type": "execute_result"
    }
   ],
   "source": [
    "#Исследуем набор данных \n",
    "print(dataset.shape) \n",
    "dataset.describe()"
   ]
  },
  {
   "cell_type": "code",
   "execution_count": 23,
   "metadata": {},
   "outputs": [
    {
     "data": {
      "image/png": "[encoded data removed]",
      "text/plain": [
       "<Figure size 432x288 with 1 Axes>"
      ]
     },
     "metadata": {
      "needs_background": "light"
     },
     "output_type": "display_data"
    }
   ],
   "source": [
    "# Нарисуем точечную диаграмму\n",
    "plt.scatter(dataset['Учебное время'], dataset['Оценка'], color = 'b', label = \"данные экзамена\")\n",
    "plt.xlabel(\"Часы\") \n",
    "plt.ylabel(\"Оценка\") \n",
    "plt.show()"
   ]
  },
  {
   "cell_type": "markdown",
   "metadata": {},
   "source": [
    "После того как мы получили представление о данных, разделим информацию на «атрибуты» и «метки». Атрибуты – это независимые переменные, а метки – это зависимые переменные, значения которых должны быть предсказаны. В нашем наборе всего два столбца и необходимо предсказать оценку в зависимости от количества часов. Чтобы извлечь атрибуты и метки, выполните следующий скрипт:"
   ]
  },
  {
   "cell_type": "markdown",
   "metadata": {},
   "source": [
    "Решение:"
   ]
  },
  {
   "cell_type": "code",
   "execution_count": 30,
   "metadata": {},
   "outputs": [
    {
     "name": "stdout",
     "output_type": "stream",
     "text": [
      "[[0.5 ]\n",
      " [0.75]\n",
      " [1.  ]\n",
      " [1.25]\n",
      " [1.5 ]\n",
      " [1.75]\n",
      " [1.75]\n",
      " [2.  ]\n",
      " [2.25]\n",
      " [2.5 ]\n",
      " [2.75]\n",
      " [3.  ]\n",
      " [3.25]\n",
      " [3.5 ]\n",
      " [4.  ]\n",
      " [4.25]\n",
      " [4.5 ]\n",
      " [4.75]\n",
      " [5.  ]\n",
      " [5.5 ]]\n",
      "[10 22 13 43 20 22 33 50 62 48 55 75 62 73 81 76 64 82 90 93]\n",
      "5.475400029908791\n",
      "[17.02706744]\n"
     ]
    }
   ],
   "source": [
    "X = dataset.iloc[:, :-1].values\n",
    "y = dataset.iloc[:, 1].values\n",
    "print(X)\n",
    "print(y)\n",
    "\n",
    "# Теперь, когда у нас есть атрибуты и метки, необходимо разделить их на обучающий и тестовый наборы. \n",
    "# Приведенный фрагмент разделяет 80% данных на обучающий набор, а 20% данных - на набор тестов \n",
    "X_train, X_test, y_train, y_test = train_test_split(X, y, test_size = 0.2, random_state = 0)\n",
    "\n",
    "# далее можно обучить алгоритм линейной регрессии \n",
    "# необходимо импортировать класс LinearRegression, создать его экземпляр и вызвать метод fit()\n",
    "regressor = LinearRegression() \n",
    "regressor.fit(X_train, y_train)\n",
    "\n",
    "#приведем получившиеся коэффициенты для линии регрессии \n",
    "print(regressor.intercept_)\n",
    "print(regressor.coef_)"
   ]
  },
  {
   "cell_type": "markdown",
   "metadata": {},
   "source": [
    "Получившийся результат можно интерпретировать следующим образом: с каждым затраченным часом на обучение результат экзамена повышается приблизительно на 17 баллов. Далее можно построить прогнозы. Для этого мы будем использовать наши тестовые данные и посмотрим, насколько точно наш алгоритм предсказывает процентную оценку. Чтобы сделать прогноз на тестовых данных необходимо выполнить следующий код:"
   ]
  },
  {
   "cell_type": "markdown",
   "metadata": {},
   "source": [
    "Решение:"
   ]
  },
  {
   "cell_type": "code",
   "execution_count": 31,
   "metadata": {},
   "outputs": [
    {
     "data": {
      "text/html": [
       "<div>\n",
       "<style scoped>\n",
       "    .dataframe tbody tr th:only-of-type {\n",
       "        vertical-align: middle;\n",
       "    }\n",
       "\n",
       "    .dataframe tbody tr th {\n",
       "        vertical-align: top;\n",
       "    }\n",
       "\n",
       "    .dataframe thead th {\n",
       "        text-align: right;\n",
       "    }\n",
       "</style>\n",
       "<table border=\"1\" class=\"dataframe\">\n",
       "  <thead>\n",
       "    <tr style=\"text-align: right;\">\n",
       "      <th></th>\n",
       "      <th>Actual</th>\n",
       "      <th>Predicted</th>\n",
       "    </tr>\n",
       "  </thead>\n",
       "  <tbody>\n",
       "    <tr>\n",
       "      <td>0</td>\n",
       "      <td>90</td>\n",
       "      <td>90.610737</td>\n",
       "    </tr>\n",
       "    <tr>\n",
       "      <td>1</td>\n",
       "      <td>22</td>\n",
       "      <td>18.245701</td>\n",
       "    </tr>\n",
       "    <tr>\n",
       "      <td>2</td>\n",
       "      <td>93</td>\n",
       "      <td>99.124271</td>\n",
       "    </tr>\n",
       "    <tr>\n",
       "      <td>3</td>\n",
       "      <td>62</td>\n",
       "      <td>43.786302</td>\n",
       "    </tr>\n",
       "  </tbody>\n",
       "</table>\n",
       "</div>"
      ],
      "text/plain": [
       "   Actual  Predicted\n",
       "0      90  90.610737\n",
       "1      22  18.245701\n",
       "2      93  99.124271\n",
       "3      62  43.786302"
      ]
     },
     "execution_count": 31,
     "metadata": {},
     "output_type": "execute_result"
    }
   ],
   "source": [
    "y_pred = regressor.predict(X_test) \n",
    "# сравним фактические значения с прогнозируемыми \n",
    "df = pd.DataFrame({'Actual': y_test, 'Predicted': y_pred}) \n",
    "df"
   ]
  },
  {
   "cell_type": "code",
   "execution_count": 32,
   "metadata": {},
   "outputs": [
    {
     "data": {
      "image/png": "[encoded data removed]",
      "text/plain": [
       "<Figure size 432x288 with 1 Axes>"
      ]
     },
     "metadata": {
      "needs_background": "light"
     },
     "output_type": "display_data"
    }
   ],
   "source": [
    "# визуализируем результат сравнения в виде гистограммы \n",
    "df.plot(kind='bar') \n",
    "plt.grid(which='major', linestyle='-', linewidth='0.5', color='green') \n",
    "plt.grid(which='minor', linestyle=':', linewidth='0.5', color='black')\n",
    "plt.show()"
   ]
  },
  {
   "cell_type": "code",
   "execution_count": 33,
   "metadata": {},
   "outputs": [
    {
     "data": {
      "image/png": "[encoded data removed]",
      "text/plain": [
       "<Figure size 432x288 with 1 Axes>"
      ]
     },
     "metadata": {
      "needs_background": "light"
     },
     "output_type": "display_data"
    }
   ],
   "source": [
    "#построим линию регрессии с тестовыми данными \n",
    "plt.scatter(X_test, y_test, color='gray') \n",
    "plt.plot(X_test, y_pred, color='red', linewidth=2) \n",
    "plt.show()"
   ]
  },
  {
   "cell_type": "markdown",
   "metadata": {},
   "source": [
    "### Задание:"
   ]
  },
  {
   "cell_type": "markdown",
   "metadata": {},
   "source": [
    "Постройте модель линейной регрессии для произвольных данных из двух столбцов. Для примера можно взять точечную зависимость заработной платы от опыта работы:\n",
    "(https://raw.githubusercontent.com/AnnaShestova/salary-years-simple-linear-regression/master/Salary_Data.csv). \n",
    "Найдите коэффициенты линии регрессии. Постройте прогноз."
   ]
  },
  {
   "cell_type": "markdown",
   "metadata": {},
   "source": [
    "### Решение:"
   ]
  },
  {
   "cell_type": "code",
   "execution_count": 9,
   "metadata": {},
   "outputs": [
    {
     "data": {
      "image/png": "[encoded data removed]",
      "text/plain": [
       "<Figure size 432x288 with 1 Axes>"
      ]
     },
     "metadata": {
      "needs_background": "light"
     },
     "output_type": "display_data"
    },
    {
     "name": "stdout",
     "output_type": "stream",
     "text": [
      "[[ 1.1]\n",
      " [ 1.3]\n",
      " [ 1.5]\n",
      " [ 2. ]\n",
      " [ 2.2]\n",
      " [ 2.9]\n",
      " [ 3. ]\n",
      " [ 3.2]\n",
      " [ 3.2]\n",
      " [ 3.7]\n",
      " [ 3.9]\n",
      " [ 4. ]\n",
      " [ 4. ]\n",
      " [ 4.1]\n",
      " [ 4.5]\n",
      " [ 4.9]\n",
      " [ 5.1]\n",
      " [ 5.3]\n",
      " [ 5.9]\n",
      " [ 6. ]\n",
      " [ 6.8]\n",
      " [ 7.1]\n",
      " [ 7.9]\n",
      " [ 8.2]\n",
      " [ 8.7]\n",
      " [ 9. ]\n",
      " [ 9.5]\n",
      " [ 9.6]\n",
      " [10.3]\n",
      " [10.5]]\n",
      "[ 39343.  46205.  37731.  43525.  39891.  56642.  60150.  54445.  64445.\n",
      "  57189.  63218.  55794.  56957.  57081.  61111.  67938.  66029.  83088.\n",
      "  81363.  93940.  91738.  98273. 101302. 113812. 109431. 105582. 116969.\n",
      " 112635. 122391. 121872.]\n",
      "26780.099150628186\n",
      "[9312.57512673]\n"
     ]
    }
   ],
   "source": [
    "import pandas as pd \n",
    "import numpy as np \n",
    "import matplotlib.pyplot as plt \n",
    "from pandas import DataFrame,Series \n",
    "from sklearn.model_selection import train_test_split \n",
    "from sklearn.linear_model import LinearRegression\n",
    "\n",
    "my_dict = {'Опыт рботы': [1.1, 1.3, 1.5, 2.0, 2.2, 2.9, 3.0, 3.2, 3.2, 3.7, 3.9, 4.0, 4.0, 4.1, 4.5, 4.9, 5.1, 5.3,\n",
    "                         5.9, 6.0, 6.8, 7.1, 7.9, 8.2, 8.7, 9.0, 9.5, 9.6, 10.3, 10.5],\n",
    "           'Зарботная плата': [39343.00, 46205.00, 37731.00, 43525.00, 39891.00, 56642.00, 60150.00, 54445.00, 64445.00,\n",
    "                              57189.00, 63218.00, 55794.00, 56957.00, 57081.00, 61111.00, 67938.00, 66029.00, 83088.00,\n",
    "                              81363.00, 93940.00, 91738.00, 98273.00, 101302.00, 113812.00, 109431.00, 105582.00, 116969.00,\n",
    "                              112635.00, 122391.00, 121872.00]}\n",
    "\n",
    "plt.scatter(dataset['Опыт рботы'], dataset['Зарботная плата'], color = 'b', \n",
    "            label = \"зависимость заработной платы от опыта работы\")\n",
    "plt.xlabel(\"Опыт рботы\") \n",
    "plt.ylabel(\"Зарботная плата\") \n",
    "plt.show()\n",
    "\n",
    "X = dataset.iloc[:, :-1].values\n",
    "y = dataset.iloc[:, 1].values\n",
    "print(X)\n",
    "print(y)\n",
    "\n",
    "X_train, X_test, y_train, y_test = train_test_split(X, y, test_size = 0.2, random_state = 0)\n",
    "\n",
    "regressor = LinearRegression() \n",
    "regressor.fit(X_train, y_train)\n",
    "\n",
    "print(regressor.intercept_)\n",
    "print(regressor.coef_)"
   ]
  },
  {
   "cell_type": "markdown",
   "metadata": {},
   "source": [
    "Получившийся результат можно интерпретировать следующим образом: каждый год работы увеличивает зарботную плату \n",
    "приблизительно на 9312."
   ]
  },
  {
   "cell_type": "code",
   "execution_count": 7,
   "metadata": {},
   "outputs": [
    {
     "data": {
      "image/png": "[encoded data removed]",
      "text/plain": [
       "<Figure size 432x288 with 1 Axes>"
      ]
     },
     "metadata": {
      "needs_background": "light"
     },
     "output_type": "display_data"
    },
    {
     "data": {
      "image/png": "[encoded data removed]",
      "text/plain": [
       "<Figure size 432x288 with 1 Axes>"
      ]
     },
     "metadata": {
      "needs_background": "light"
     },
     "output_type": "display_data"
    }
   ],
   "source": [
    "y_pred = regressor.predict(X_test) \n",
    "# сравним фактические значения с прогнозируемыми \n",
    "df = pd.DataFrame({'Actual': y_test, 'Predicted': y_pred}) \n",
    "\n",
    "df.plot(kind='bar') \n",
    "plt.grid(which='major', linestyle='-', linewidth='0.5', color='green') \n",
    "plt.grid(which='minor', linestyle=':', linewidth='0.5', color='black')\n",
    "plt.show()\n",
    "\n",
    "plt.scatter(X_test, y_test, color='gray') \n",
    "plt.plot(X_test, y_pred, color='red', linewidth=2) \n",
    "plt.show()"
   ]
  },
  {
   "cell_type": "markdown",
   "metadata": {},
   "source": [
    "## 1.3. Теоретический материал – Множественная регрессия"
   ]
  },
  {
   "cell_type": "markdown",
   "metadata": {},
   "source": [
    "В предыдущем примере мы проиллюстрировали линейную регрессию с двумя переменными. Однако, почти все реальные задачи имеют больше параметров. Линейная регрессия с участием нескольких переменных называется «множественной линейной регрессией» или многомерной линейной регрессией. Шаги для выполнения множественной линейной регрессии аналогичны шагам для простой . Разница заключается в оценке. Вы можете использовать множественную регрессию, чтобы узнать, какой фактор оказывает наибольшее влияние на прогнозируемый результат или как различные переменные связаны друг с другом."
   ]
  },
  {
   "cell_type": "markdown",
   "metadata": {},
   "source": [
    "### 1.3.1 Пример"
   ]
  },
  {
   "cell_type": "markdown",
   "metadata": {},
   "source": [
    "Задача:"
   ]
  },
  {
   "cell_type": "markdown",
   "metadata": {},
   "source": [
    "Для решения задачи множественной регрессии можно задействовать уже известный метод numpy.linalg.lstsq."
   ]
  },
  {
   "cell_type": "markdown",
   "metadata": {},
   "source": [
    "Решение:"
   ]
  },
  {
   "cell_type": "code",
   "execution_count": 35,
   "metadata": {},
   "outputs": [
    {
     "name": "stdout",
     "output_type": "stream",
     "text": [
      "[ 0.1338682   0.26840334 -0.02874936  1.5122571 ]\n"
     ]
    }
   ],
   "source": [
    "import numpy as np\n",
    "y = [1,2,3,4,3,4,5,3,5,5,4,5,4,5,4,5,6,0,6,3,1,3,1] \n",
    "X = [[0,2,4,1,5,4,5,9,9,9,3,7,8,8,6,6,5,5,5,6,6,5,5], \n",
    "       [4,1,2,3,4,5,6,7,5,8,7,8,7,8,7,8,6,8,9,2,1,5,6], \n",
    "       [4,1,2,5,6,7,8,9,7,8,7,8,7,4,3,1,2,3,4,1,3,9,7]]\n",
    "X = np. transpose(X) # transpose so input vectors \n",
    "X = np.c_[X, np.ones(X.shape[0])] # add bias term \n",
    "linreg = np.linalg.lstsq(X, y, rcond=None)[0] \n",
    "print(linreg)"
   ]
  },
  {
   "cell_type": "markdown",
   "metadata": {},
   "source": [
    "Кроме этого можно использовать возможности библиотеки sсikit-learn. Рассмотрим пример."
   ]
  },
  {
   "cell_type": "markdown",
   "metadata": {},
   "source": [
    "### 1.3.2 Пример"
   ]
  },
  {
   "cell_type": "markdown",
   "metadata": {},
   "source": [
    "Задача:"
   ]
  },
  {
   "cell_type": "markdown",
   "metadata": {},
   "source": [
    "Для данных из предыдущей задачи построить модель множественной линейной регрессии с использованием средств библиотеки sсikit-learn."
   ]
  },
  {
   "cell_type": "markdown",
   "metadata": {},
   "source": [
    "Решение:"
   ]
  },
  {
   "cell_type": "code",
   "execution_count": 36,
   "metadata": {},
   "outputs": [
    {
     "data": {
      "text/html": [
       "<div>\n",
       "<style scoped>\n",
       "    .dataframe tbody tr th:only-of-type {\n",
       "        vertical-align: middle;\n",
       "    }\n",
       "\n",
       "    .dataframe tbody tr th {\n",
       "        vertical-align: top;\n",
       "    }\n",
       "\n",
       "    .dataframe thead th {\n",
       "        text-align: right;\n",
       "    }\n",
       "</style>\n",
       "<table border=\"1\" class=\"dataframe\">\n",
       "  <thead>\n",
       "    <tr style=\"text-align: right;\">\n",
       "      <th></th>\n",
       "      <th>y</th>\n",
       "      <th>x1</th>\n",
       "      <th>x2</th>\n",
       "      <th>x3</th>\n",
       "    </tr>\n",
       "  </thead>\n",
       "  <tbody>\n",
       "    <tr>\n",
       "      <td>0</td>\n",
       "      <td>1</td>\n",
       "      <td>0</td>\n",
       "      <td>4</td>\n",
       "      <td>4</td>\n",
       "    </tr>\n",
       "    <tr>\n",
       "      <td>1</td>\n",
       "      <td>2</td>\n",
       "      <td>2</td>\n",
       "      <td>1</td>\n",
       "      <td>1</td>\n",
       "    </tr>\n",
       "    <tr>\n",
       "      <td>2</td>\n",
       "      <td>3</td>\n",
       "      <td>4</td>\n",
       "      <td>2</td>\n",
       "      <td>2</td>\n",
       "    </tr>\n",
       "    <tr>\n",
       "      <td>3</td>\n",
       "      <td>4</td>\n",
       "      <td>1</td>\n",
       "      <td>3</td>\n",
       "      <td>5</td>\n",
       "    </tr>\n",
       "    <tr>\n",
       "      <td>4</td>\n",
       "      <td>3</td>\n",
       "      <td>5</td>\n",
       "      <td>4</td>\n",
       "      <td>6</td>\n",
       "    </tr>\n",
       "  </tbody>\n",
       "</table>\n",
       "</div>"
      ],
      "text/plain": [
       "   y  x1  x2  x3\n",
       "0  1   0   4   4\n",
       "1  2   2   1   1\n",
       "2  3   4   2   2\n",
       "3  4   1   3   5\n",
       "4  3   5   4   6"
      ]
     },
     "execution_count": 36,
     "metadata": {},
     "output_type": "execute_result"
    }
   ],
   "source": [
    "#Импортируем необходимые библиотеки \n",
    "import pandas as pd \n",
    "import numpy as np \n",
    "import matplotlib.pyplot as plt \n",
    "import seaborn as seabornInstance \n",
    "from sklearn.model_selection import train_test_split \n",
    "from sklearn.linear_model import LinearRegression \n",
    "from sklearn import metrics\n",
    "\n",
    "y = [1,2,3,4,3,4,5,3,5,5,4,5,4,5,4,5,6,0,6,3,1,3,1] \n",
    "X = [[0,2,4,1,5,4,5,9,9,9,3,7,8,8,6,6,5,5,5,6,6,5,5], \n",
    "     [4,1,2,3,4,5,6,7,5,8,7,8,7,8,7,8,6,8,9,2,1,5,6], \n",
    "     [4,1,2,5,6,7,8,9,7,8,7,8,7,4,3,1,2,3,4,1,3,9,7]]\n",
    "# формируем DataFrame из двух списков \n",
    "new_y = np.array(y) \n",
    "new_y = new_y.transpose() \n",
    "df1 = pd.DataFrame(new_y) \n",
    "new_X = np.array(X) \n",
    "new_X = new_X.transpose() \n",
    "df2 = pd. DataFrame(new_X) \n",
    "df1 = df1.rename(columns = {0: 'y'}, inplace = False) \n",
    "df2 = df2.rename(columns = {0: 'x1', 1: 'x2', 2: 'x3'}, inplace = False)\n",
    "\n",
    "frames = [df1, df2] \n",
    "dataset = pd.concat([df1, df2], axis=1, join=\"inner\") \n",
    "dataset.head()"
   ]
  },
  {
   "cell_type": "code",
   "execution_count": 37,
   "metadata": {},
   "outputs": [
    {
     "name": "stdout",
     "output_type": "stream",
     "text": [
      "(23, 4)\n"
     ]
    },
    {
     "data": {
      "text/html": [
       "<div>\n",
       "<style scoped>\n",
       "    .dataframe tbody tr th:only-of-type {\n",
       "        vertical-align: middle;\n",
       "    }\n",
       "\n",
       "    .dataframe tbody tr th {\n",
       "        vertical-align: top;\n",
       "    }\n",
       "\n",
       "    .dataframe thead th {\n",
       "        text-align: right;\n",
       "    }\n",
       "</style>\n",
       "<table border=\"1\" class=\"dataframe\">\n",
       "  <thead>\n",
       "    <tr style=\"text-align: right;\">\n",
       "      <th></th>\n",
       "      <th>y</th>\n",
       "      <th>x1</th>\n",
       "      <th>x2</th>\n",
       "      <th>x3</th>\n",
       "    </tr>\n",
       "  </thead>\n",
       "  <tbody>\n",
       "    <tr>\n",
       "      <td>count</td>\n",
       "      <td>23.000000</td>\n",
       "      <td>23.000000</td>\n",
       "      <td>23.000000</td>\n",
       "      <td>23.000000</td>\n",
       "    </tr>\n",
       "    <tr>\n",
       "      <td>mean</td>\n",
       "      <td>3.565217</td>\n",
       "      <td>5.347826</td>\n",
       "      <td>5.521739</td>\n",
       "      <td>5.043478</td>\n",
       "    </tr>\n",
       "    <tr>\n",
       "      <td>std</td>\n",
       "      <td>1.674029</td>\n",
       "      <td>2.404706</td>\n",
       "      <td>2.428422</td>\n",
       "      <td>2.704849</td>\n",
       "    </tr>\n",
       "    <tr>\n",
       "      <td>min</td>\n",
       "      <td>0.000000</td>\n",
       "      <td>0.000000</td>\n",
       "      <td>1.000000</td>\n",
       "      <td>1.000000</td>\n",
       "    </tr>\n",
       "    <tr>\n",
       "      <td>25%</td>\n",
       "      <td>3.000000</td>\n",
       "      <td>4.500000</td>\n",
       "      <td>4.000000</td>\n",
       "      <td>3.000000</td>\n",
       "    </tr>\n",
       "    <tr>\n",
       "      <td>50%</td>\n",
       "      <td>4.000000</td>\n",
       "      <td>5.000000</td>\n",
       "      <td>6.000000</td>\n",
       "      <td>5.000000</td>\n",
       "    </tr>\n",
       "    <tr>\n",
       "      <td>75%</td>\n",
       "      <td>5.000000</td>\n",
       "      <td>6.500000</td>\n",
       "      <td>7.500000</td>\n",
       "      <td>7.000000</td>\n",
       "    </tr>\n",
       "    <tr>\n",
       "      <td>max</td>\n",
       "      <td>6.000000</td>\n",
       "      <td>9.000000</td>\n",
       "      <td>9.000000</td>\n",
       "      <td>9.000000</td>\n",
       "    </tr>\n",
       "  </tbody>\n",
       "</table>\n",
       "</div>"
      ],
      "text/plain": [
       "               y         x1         x2         x3\n",
       "count  23.000000  23.000000  23.000000  23.000000\n",
       "mean    3.565217   5.347826   5.521739   5.043478\n",
       "std     1.674029   2.404706   2.428422   2.704849\n",
       "min     0.000000   0.000000   1.000000   1.000000\n",
       "25%     3.000000   4.500000   4.000000   3.000000\n",
       "50%     4.000000   5.000000   6.000000   5.000000\n",
       "75%     5.000000   6.500000   7.500000   7.000000\n",
       "max     6.000000   9.000000   9.000000   9.000000"
      ]
     },
     "execution_count": 37,
     "metadata": {},
     "output_type": "execute_result"
    }
   ],
   "source": [
    "# изучим данные \n",
    "print(dataset.shape) \n",
    "dataset.describe()"
   ]
  },
  {
   "cell_type": "code",
   "execution_count": 39,
   "metadata": {},
   "outputs": [
    {
     "data": {
      "text/html": [
       "<div>\n",
       "<style scoped>\n",
       "    .dataframe tbody tr th:only-of-type {\n",
       "        vertical-align: middle;\n",
       "    }\n",
       "\n",
       "    .dataframe tbody tr th {\n",
       "        vertical-align: top;\n",
       "    }\n",
       "\n",
       "    .dataframe thead th {\n",
       "        text-align: right;\n",
       "    }\n",
       "</style>\n",
       "<table border=\"1\" class=\"dataframe\">\n",
       "  <thead>\n",
       "    <tr style=\"text-align: right;\">\n",
       "      <th></th>\n",
       "      <th>Coefficient</th>\n",
       "    </tr>\n",
       "  </thead>\n",
       "  <tbody>\n",
       "    <tr>\n",
       "      <td>x1</td>\n",
       "      <td>0.223219</td>\n",
       "    </tr>\n",
       "    <tr>\n",
       "      <td>x2</td>\n",
       "      <td>0.136709</td>\n",
       "    </tr>\n",
       "    <tr>\n",
       "      <td>x3</td>\n",
       "      <td>-0.063757</td>\n",
       "    </tr>\n",
       "  </tbody>\n",
       "</table>\n",
       "</div>"
      ],
      "text/plain": [
       "    Coefficient\n",
       "x1     0.223219\n",
       "x2     0.136709\n",
       "x3    -0.063757"
      ]
     },
     "execution_count": 39,
     "metadata": {},
     "output_type": "execute_result"
    }
   ],
   "source": [
    "# разделим данные на метки и атрибуты \n",
    "X = dataset[['x1', 'x2', 'x3']] \n",
    "y = dataset['y']\n",
    "\n",
    "# разделим данные на обучающую и тестовую выборки \n",
    "X_train, X_test, y_train, y_test = train_test_split(X, y, test_size=0.2, random_state = 0)\n",
    "\n",
    "#для обучения алгоритма мы выполняем тот же код, что и раньше, используя метод fit() классaLinearRegression\n",
    "regressor = LinearRegression() \n",
    "regressor.fit(X_train, y_train)\n",
    "\n",
    "#выведем коэффициенты модели \n",
    "coeff_df = pd.DataFrame(regressor.coef_, X.columns, columns=['Coefficient']) \n",
    "coeff_df"
   ]
  },
  {
   "cell_type": "code",
   "execution_count": 40,
   "metadata": {},
   "outputs": [
    {
     "data": {
      "text/html": [
       "<div>\n",
       "<style scoped>\n",
       "    .dataframe tbody tr th:only-of-type {\n",
       "        vertical-align: middle;\n",
       "    }\n",
       "\n",
       "    .dataframe tbody tr th {\n",
       "        vertical-align: top;\n",
       "    }\n",
       "\n",
       "    .dataframe thead th {\n",
       "        text-align: right;\n",
       "    }\n",
       "</style>\n",
       "<table border=\"1\" class=\"dataframe\">\n",
       "  <thead>\n",
       "    <tr style=\"text-align: right;\">\n",
       "      <th></th>\n",
       "      <th>Actual</th>\n",
       "      <th>Predicted</th>\n",
       "    </tr>\n",
       "  </thead>\n",
       "  <tbody>\n",
       "    <tr>\n",
       "      <td>11</td>\n",
       "      <td>5</td>\n",
       "      <td>4.119478</td>\n",
       "    </tr>\n",
       "    <tr>\n",
       "      <td>10</td>\n",
       "      <td>4</td>\n",
       "      <td>3.153648</td>\n",
       "    </tr>\n",
       "    <tr>\n",
       "      <td>21</td>\n",
       "      <td>3</td>\n",
       "      <td>3.199155</td>\n",
       "    </tr>\n",
       "    <tr>\n",
       "      <td>14</td>\n",
       "      <td>4</td>\n",
       "      <td>4.078333</td>\n",
       "    </tr>\n",
       "    <tr>\n",
       "      <td>20</td>\n",
       "      <td>1</td>\n",
       "      <td>3.258079</td>\n",
       "    </tr>\n",
       "  </tbody>\n",
       "</table>\n",
       "</div>"
      ],
      "text/plain": [
       "    Actual  Predicted\n",
       "11       5   4.119478\n",
       "10       4   3.153648\n",
       "21       3   3.199155\n",
       "14       4   4.078333\n",
       "20       1   3.258079"
      ]
     },
     "execution_count": 40,
     "metadata": {},
     "output_type": "execute_result"
    }
   ],
   "source": [
    "#Чтобы сделать прогнозы на тестовых данных, выполните следующий код \n",
    "y_pred = regressor.predict(X_test) \n",
    "df = pd.DataFrame({'Actual': y_test, 'Predicted': y_pred}) \n",
    "df"
   ]
  },
  {
   "cell_type": "code",
   "execution_count": 41,
   "metadata": {},
   "outputs": [
    {
     "name": "stdout",
     "output_type": "stream",
     "text": [
      "Mean Squared Error: 1.3272699242343065\n"
     ]
    }
   ],
   "source": [
    "#Последний шаг - оценить производительность алгоритма. Мы сделаем это, найдя значения для MSE \n",
    "print(\"Mean Squared Error:\", metrics.mean_squared_error(y_test, y_pred))"
   ]
  },
  {
   "cell_type": "markdown",
   "metadata": {},
   "source": [
    "### Задание"
   ]
  },
  {
   "cell_type": "markdown",
   "metadata": {},
   "source": [
    "#### Задача:"
   ]
  },
  {
   "cell_type": "markdown",
   "metadata": {},
   "source": [
    "Постройте модель множественной линейной регрессии для произвольных данных из нескольких столбцов. Для примера можно взять потребления газа (в миллионах галлонов) в 48 штатах США или набор данных о качестве красного вина (1) и (2) соответственно. Найдите коэффициенты множественной регрессии. Постройте прогноз.\n",
    "1. https://raw.githubusercontent.com/likarajo/petrol_consumption/master/data/petrol_consumption.csv\n",
    "2. https://raw.githubusercontent.com/aniruddhachoudhury/Red-Wine-Quality/master/winequality-red.csv\n"
   ]
  },
  {
   "cell_type": "markdown",
   "metadata": {},
   "source": [
    "#### Решение:"
   ]
  },
  {
   "cell_type": "code",
   "execution_count": 53,
   "metadata": {},
   "outputs": [
    {
     "name": "stdout",
     "output_type": "stream",
     "text": [
      "                              Coefficient\n",
      "Petrol_tax                     -40.016660\n",
      "Average_income                  -0.065413\n",
      "Paved_Highways                  -0.004741\n",
      "Population_Driver_licence(%)  1341.862121\n",
      "    Actual   Predicted\n",
      "29     534  469.391989\n",
      "4      410  545.645464\n",
      "26     577  589.668394\n",
      "30     571  569.730413\n",
      "32     577  649.774809\n",
      "37     704  646.631164\n",
      "34     487  511.608148\n",
      "40     587  672.475177\n",
      "7      467  502.074782\n",
      "10     580  501.270734\n",
      "Mean Squared Error: 4666.344787588363\n"
     ]
    }
   ],
   "source": [
    "import pandas as pd \n",
    "import numpy as np \n",
    "import matplotlib.pyplot as plt \n",
    "import seaborn as seabornInstance \n",
    "from sklearn.model_selection import train_test_split \n",
    "from sklearn.linear_model import LinearRegression \n",
    "from sklearn import metrics\n",
    "\n",
    "data=pd.read_csv('C:/Users/iamse/Desktop/petrol_consumption.csv')\n",
    "\n",
    "x = data[['Petrol_tax', 'Average_income', 'Paved_Highways', 'Population_Driver_licence(%)']]\n",
    "y = data['Petrol_Consumption']\n",
    "\n",
    "X_train, X_test, y_train, y_test = train_test_split(x, y, test_size=0.2, random_state = 0)\n",
    "\n",
    "regressor = LinearRegression() \n",
    "regressor.fit(X_train, y_train)\n",
    "\n",
    "coeff_df = pd.DataFrame(regressor.coef_, X.columns, columns=['Coefficient']) \n",
    "print(coeff_df)\n",
    "\n",
    "y_pred = regressor.predict(X_test) \n",
    "df = pd.DataFrame({'Actual': y_test, 'Predicted': y_pred}) \n",
    "print(df)\n",
    "\n",
    "print(\"Mean Squared Error:\", metrics.mean_squared_error(y_test, y_pred))"
   ]
  },
  {
   "cell_type": "markdown",
   "metadata": {},
   "source": [
    "### Задание*"
   ]
  },
  {
   "cell_type": "markdown",
   "metadata": {},
   "source": [
    "#### Задача:"
   ]
  },
  {
   "cell_type": "markdown",
   "metadata": {},
   "source": [
    "Экспериментально получены N − значений величины Y при различных значениях величины X. Построить полиномы первой и второй степени, аппроксимирующие результаты эксперимента, с применением метода наименьших квадратов. Результаты выводятся в виде таблиц значений и графиков, полученных полиномов. "
   ]
  },
  {
   "cell_type": "markdown",
   "metadata": {},
   "source": [
    "#### Решение:"
   ]
  },
  {
   "cell_type": "code",
   "execution_count": 54,
   "metadata": {},
   "outputs": [
    {
     "name": "stdout",
     "output_type": "stream",
     "text": [
      "Вариант 10\n",
      "x =  [0.  0.2 0.4 0.6 0.8 1. ]\n",
      "y =  [4.28571429 4.17142857 4.05714286 3.94285714 3.82857143 3.71428571]\n"
     ]
    },
    {
     "data": {
      "image/png": "[encoded data removed]",
      "text/plain": [
       "<Figure size 432x288 with 1 Axes>"
      ]
     },
     "metadata": {
      "needs_background": "light"
     },
     "output_type": "display_data"
    },
    {
     "name": "stdout",
     "output_type": "stream",
     "text": [
      "x =  [0.  0.2 0.4 0.6 0.8 1. ]\n",
      "y =  [5.35714286 3.95714286 3.2        3.08571429 3.61428571 4.78571429]\n"
     ]
    },
    {
     "data": {
      "image/png": "[encoded data removed]",
      "text/plain": [
       "<Figure size 432x288 with 1 Axes>"
      ]
     },
     "metadata": {
      "needs_background": "light"
     },
     "output_type": "display_data"
    }
   ],
   "source": [
    "import numpy as np\n",
    "import matplotlib.pyplot as plt\n",
    "from numpy import *\n",
    "\n",
    "print('Вариант 10')\n",
    "\n",
    "x = np.array([0, 0.2, 0.4, 0.6, 0.8, 1.0])\n",
    "y = np.array([6, 3, 2, 6, 2, 5])\n",
    "\n",
    "A =np.vstack([x, np.ones(len(x))]).T\n",
    "\n",
    "m,c=np.linalg.lstsq(A, y, rcond = None)[0]\n",
    "\n",
    "print('x = ', x)\n",
    "print('y = ', m*x +c)\n",
    "\n",
    "plt.plot(x, y, 'o', label='X', markersize=10)\n",
    "plt.plot(x, m*x +c, 'r', label='Y')\n",
    "plt.legend()\n",
    "plt.show()\n",
    "\n",
    "m=vstack((x**2, x, ones(6))).T\n",
    "s=np.linalg.lstsq(m, y, rcond = None)[0]\n",
    "\n",
    "x_prec = linspace(0, 1, 6)\n",
    "plt.plot(x, y, 'D')\n",
    "plt.plot(x_prec, s[0]*x_prec**2+s[1]*x_prec+s[2], '-', lw=2)\n",
    "plt.grid()\n",
    "\n",
    "print('x = ', x)\n",
    "print('y = ', s[0]*x_prec**2+s[1]*x_prec+s[2])"
   ]
  }
 ],
 "metadata": {
  "kernelspec": {
   "display_name": "Python 3 (ipykernel)",
   "language": "python",
   "name": "python3"
  },
  "language_info": {
   "codemirror_mode": {
    "name": "ipython",
    "version": 3
   },
   "file_extension": ".py",
   "mimetype": "text/x-python",
   "name": "python",
   "nbconvert_exporter": "python",
   "pygments_lexer": "ipython3",
   "version": "3.9.7"
  }
 },
 "nbformat": 4,
 "nbformat_minor": 2
}
